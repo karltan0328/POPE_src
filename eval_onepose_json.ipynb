{
 "cells": [
  {
   "cell_type": "code",
   "execution_count": 1,
   "metadata": {},
   "outputs": [
    {
     "name": "stdout",
     "output_type": "stream",
     "text": [
      "layer_name: ['self', 'cross', 'self', 'cross', 'self', 'cross', 'self', 'cross']\n",
      "layer_name: ['self', 'cross']\n"
     ]
    },
    {
     "name": "stderr",
     "output_type": "stream",
     "text": [
      "\u001b[32m2024-02-27 18:09:03.468\u001b[0m | \u001b[1mINFO    \u001b[0m | \u001b[36mpope_model_api\u001b[0m:\u001b[36m<module>\u001b[0m:\u001b[36m182\u001b[0m - \u001b[1mload Matcher successfully\u001b[0m\n"
     ]
    }
   ],
   "source": [
    "from pope_model_api import *"
   ]
  },
  {
   "cell_type": "code",
   "execution_count": 2,
   "metadata": {},
   "outputs": [
    {
     "name": "stderr",
     "output_type": "stream",
     "text": [
      "\u001b[32m2024-02-27 18:09:11.745\u001b[0m | \u001b[1mINFO    \u001b[0m | \u001b[36m__main__\u001b[0m:\u001b[36m<module>\u001b[0m:\u001b[36m6\u001b[0m - \u001b[1mload SAM model from weights/sam_vit_h_4b8939.pth\u001b[0m\n"
     ]
    },
    {
     "data": {
      "text/plain": [
       "DinoVisionTransformer(\n",
       "  (patch_embed): PatchEmbed(\n",
       "    (proj): Conv2d(3, 384, kernel_size=(14, 14), stride=(14, 14))\n",
       "    (norm): Identity()\n",
       "  )\n",
       "  (blocks): ModuleList(\n",
       "    (0-11): 12 x NestedTensorBlock(\n",
       "      (norm1): LayerNorm((384,), eps=1e-06, elementwise_affine=True)\n",
       "      (attn): MemEffAttention(\n",
       "        (qkv): Linear(in_features=384, out_features=1152, bias=True)\n",
       "        (attn_drop): Dropout(p=0.0, inplace=False)\n",
       "        (proj): Linear(in_features=384, out_features=384, bias=True)\n",
       "        (proj_drop): Dropout(p=0.0, inplace=False)\n",
       "      )\n",
       "      (ls1): LayerScale()\n",
       "      (drop_path1): DropPath()\n",
       "      (norm2): LayerNorm((384,), eps=1e-06, elementwise_affine=True)\n",
       "      (mlp): Mlp(\n",
       "        (fc1): Linear(in_features=384, out_features=1536, bias=True)\n",
       "        (act): GELU(approximate='none')\n",
       "        (fc2): Linear(in_features=1536, out_features=384, bias=True)\n",
       "        (drop): Dropout(p=0.0, inplace=False)\n",
       "      )\n",
       "      (ls2): LayerScale()\n",
       "      (drop_path2): DropPath()\n",
       "    )\n",
       "  )\n",
       "  (norm): LayerNorm((384,), eps=1e-06, elementwise_affine=True)\n",
       "  (head): Identity()\n",
       ")"
      ]
     },
     "execution_count": 2,
     "metadata": {},
     "output_type": "execute_result"
    }
   ],
   "source": [
    "ckpt, model_type = get_model_info(\"h\")\n",
    "sam = sam_model_registry[model_type](checkpoint=ckpt)\n",
    "DEVICE = \"cuda\"\n",
    "sam.to(device=DEVICE)\n",
    "MASK_GEN = SamAutomaticMaskGenerator(sam)\n",
    "logger.info(f\"load SAM model from {ckpt}\")\n",
    "crop_tool = CropImage()\n",
    "dinov2_model = load_dinov2_model()\n",
    "dinov2_model.to(\"cuda:0\")"
   ]
  },
  {
   "cell_type": "code",
   "execution_count": 3,
   "metadata": {},
   "outputs": [],
   "source": [
    "metrics = dict()\n",
    "metrics.update({'R_errs':[], 't_errs':[], 'inliers':[] , \"identifiers\":[]})\n",
    "\n",
    "# load dataset from 'data/openpose' or /data/onepose_plusplus\n",
    "ROOT_DIR = \"data/onepose/\"\n",
    "res_table = []\n",
    "\n",
    "import json\n",
    "with open(\"data/pairs/Onepose-HighTexture-test.json\") as f:\n",
    "    dir_list = json.load(f)"
   ]
  },
  {
   "cell_type": "code",
   "execution_count": 4,
   "metadata": {},
   "outputs": [
    {
     "name": "stdout",
     "output_type": "stream",
     "text": [
      "Onepose: 0\n"
     ]
    },
    {
     "name": "stderr",
     "output_type": "stream",
     "text": [
      "  0%|          | 0/66 [00:00<?, ?it/s]"
     ]
    },
    {
     "name": "stderr",
     "output_type": "stream",
     "text": [
      "100%|██████████| 66/66 [01:54<00:00,  1.74s/it]\n",
      "100%|██████████| 120/120 [03:32<00:00,  1.77s/it]\n",
      "100%|██████████| 107/107 [03:00<00:00,  1.69s/it]\n",
      "100%|██████████| 59/59 [01:40<00:00,  1.70s/it]\n",
      "100%|██████████| 41/41 [01:13<00:00,  1.79s/it]\n",
      "100%|██████████| 46/46 [01:15<00:00,  1.64s/it]\n",
      "\u001b[32m2024-02-27 18:21:49.907\u001b[0m | \u001b[1mINFO    \u001b[0m | \u001b[36msrc.utils.metrics\u001b[0m:\u001b[36maggregate_metrics\u001b[0m:\u001b[36m192\u001b[0m - \u001b[1mAggregating metrics over 437 unique items...\u001b[0m\n",
      "\u001b[32m2024-02-27 18:21:49.912\u001b[0m | \u001b[1mINFO    \u001b[0m | \u001b[36m__main__\u001b[0m:\u001b[36m<module>\u001b[0m:\u001b[36m145\u001b[0m - \u001b[1m\n",
      "{'AP50': 0.9157175398633257,\n",
      " 'R:ACC15': 0.8947368421052632,\n",
      " 'R:ACC30': 0.9450800915331807,\n",
      " 'R:auc@15': 0.6712790027460791,\n",
      " 'R:auc@30': 0.7979199163498244,\n",
      " 'R:medianErr': 2.8928463330264464,\n",
      " 't:ACC15': 0.7070938215102975,\n",
      " 't:ACC30': 0.8192219679633868,\n",
      " 't:auc@15': 0.46863295820028306,\n",
      " 't:auc@30': 0.621219738436692,\n",
      " 't:medianErr': 6.5345361916039355}\u001b[0m\n"
     ]
    },
    {
     "name": "stdout",
     "output_type": "stream",
     "text": [
      "Acc: 402/439\n",
      "Onepose: 1\n"
     ]
    },
    {
     "name": "stderr",
     "output_type": "stream",
     "text": [
      "100%|██████████| 45/45 [01:14<00:00,  1.65s/it]\n",
      "100%|██████████| 91/91 [02:33<00:00,  1.69s/it]\n",
      "100%|██████████| 62/62 [01:47<00:00,  1.73s/it]\n",
      "100%|██████████| 28/28 [00:46<00:00,  1.67s/it]\n",
      "100%|██████████| 34/34 [00:56<00:00,  1.67s/it]\n",
      "100%|██████████| 34/34 [00:55<00:00,  1.64s/it]\n",
      "\u001b[32m2024-02-27 18:30:04.534\u001b[0m | \u001b[1mINFO    \u001b[0m | \u001b[36msrc.utils.metrics\u001b[0m:\u001b[36maggregate_metrics\u001b[0m:\u001b[36m192\u001b[0m - \u001b[1mAggregating metrics over 293 unique items...\u001b[0m\n",
      "\u001b[32m2024-02-27 18:30:04.538\u001b[0m | \u001b[1mINFO    \u001b[0m | \u001b[36m__main__\u001b[0m:\u001b[36m<module>\u001b[0m:\u001b[36m145\u001b[0m - \u001b[1m\n",
      "{'AP50': 0.9115646258503401,\n",
      " 'R:ACC15': 0.95578231292517,\n",
      " 'R:ACC30': 0.9761904761904762,\n",
      " 'R:auc@15': 0.8243715369690414,\n",
      " 'R:auc@30': 0.8970675719564659,\n",
      " 'R:medianErr': 1.5037895046353396,\n",
      " 't:ACC15': 0.9081632653061225,\n",
      " 't:ACC30': 0.9523809523809523,\n",
      " 't:auc@15': 0.6969346992193544,\n",
      " 't:auc@30': 0.8191399399448108,\n",
      " 't:medianErr': 2.745564283743305}\u001b[0m\n"
     ]
    },
    {
     "name": "stdout",
     "output_type": "stream",
     "text": [
      "Acc: 268/294\n",
      "Onepose: 2\n"
     ]
    },
    {
     "name": "stderr",
     "output_type": "stream",
     "text": [
      "100%|██████████| 30/30 [00:48<00:00,  1.61s/it]\n",
      "100%|██████████| 40/40 [01:05<00:00,  1.64s/it]\n",
      "100%|██████████| 43/43 [01:13<00:00,  1.72s/it]\n",
      "100%|██████████| 39/39 [01:04<00:00,  1.65s/it]\n",
      "100%|██████████| 45/45 [01:14<00:00,  1.66s/it]\n",
      "100%|██████████| 30/30 [00:51<00:00,  1.71s/it]\n",
      "\u001b[32m2024-02-27 18:36:22.712\u001b[0m | \u001b[1mINFO    \u001b[0m | \u001b[36msrc.utils.metrics\u001b[0m:\u001b[36maggregate_metrics\u001b[0m:\u001b[36m192\u001b[0m - \u001b[1mAggregating metrics over 227 unique items...\u001b[0m\n",
      "\u001b[32m2024-02-27 18:36:22.716\u001b[0m | \u001b[1mINFO    \u001b[0m | \u001b[36m__main__\u001b[0m:\u001b[36m<module>\u001b[0m:\u001b[36m145\u001b[0m - \u001b[1m\n",
      "{'AP50': 0.8986784140969163,\n",
      " 'R:ACC15': 0.9295154185022027,\n",
      " 'R:ACC30': 0.9823788546255506,\n",
      " 'R:auc@15': 0.7738743651439367,\n",
      " 'R:auc@30': 0.8620278961842528,\n",
      " 'R:medianErr': 1.5157392889120107,\n",
      " 't:ACC15': 0.8766519823788547,\n",
      " 't:ACC30': 0.9427312775330396,\n",
      " 't:auc@15': 0.6750290103423757,\n",
      " 't:auc@30': 0.7976444160318635,\n",
      " 't:medianErr': 3.0159137744368563}\u001b[0m\n"
     ]
    },
    {
     "name": "stdout",
     "output_type": "stream",
     "text": [
      "Acc: 204/227\n",
      "Onepose: 3\n"
     ]
    },
    {
     "name": "stderr",
     "output_type": "stream",
     "text": [
      "100%|██████████| 48/48 [01:18<00:00,  1.63s/it]\n",
      "100%|██████████| 51/51 [01:25<00:00,  1.68s/it]\n",
      "100%|██████████| 66/66 [01:54<00:00,  1.74s/it]\n",
      "100%|██████████| 39/39 [01:08<00:00,  1.77s/it]\n",
      "100%|██████████| 41/41 [01:11<00:00,  1.73s/it]\n",
      "100%|██████████| 29/29 [00:49<00:00,  1.70s/it]\n",
      "\u001b[32m2024-02-27 18:44:10.759\u001b[0m | \u001b[1mINFO    \u001b[0m | \u001b[36msrc.utils.metrics\u001b[0m:\u001b[36maggregate_metrics\u001b[0m:\u001b[36m192\u001b[0m - \u001b[1mAggregating metrics over 274 unique items...\u001b[0m\n",
      "\u001b[32m2024-02-27 18:44:10.762\u001b[0m | \u001b[1mINFO    \u001b[0m | \u001b[36m__main__\u001b[0m:\u001b[36m<module>\u001b[0m:\u001b[36m145\u001b[0m - \u001b[1m\n",
      "{'AP50': 0.9562043795620438,\n",
      " 'R:ACC15': 0.8759124087591241,\n",
      " 'R:ACC30': 0.9781021897810219,\n",
      " 'R:auc@15': 0.7059203986769015,\n",
      " 'R:auc@30': 0.8192101720461954,\n",
      " 'R:medianErr': 2.23773034812141,\n",
      " 't:ACC15': 0.7846715328467153,\n",
      " 't:ACC30': 0.8576642335766423,\n",
      " 't:auc@15': 0.5715548567473572,\n",
      " 't:auc@30': 0.7008594587064093,\n",
      " 't:medianErr': 4.462923660149828}\u001b[0m\n"
     ]
    },
    {
     "name": "stdout",
     "output_type": "stream",
     "text": [
      "Acc: 262/274\n",
      "Onepose: 4\n"
     ]
    },
    {
     "name": "stderr",
     "output_type": "stream",
     "text": [
      "100%|██████████| 37/37 [00:56<00:00,  1.53s/it]\n",
      "100%|██████████| 30/30 [00:47<00:00,  1.58s/it]\n",
      "100%|██████████| 41/41 [01:05<00:00,  1.59s/it]\n",
      "100%|██████████| 48/48 [01:17<00:00,  1.61s/it]\n",
      "100%|██████████| 34/34 [00:54<00:00,  1.60s/it]\n",
      "100%|██████████| 60/60 [01:36<00:00,  1.61s/it]\n",
      "\u001b[32m2024-02-27 18:50:48.412\u001b[0m | \u001b[1mINFO    \u001b[0m | \u001b[36msrc.utils.metrics\u001b[0m:\u001b[36maggregate_metrics\u001b[0m:\u001b[36m192\u001b[0m - \u001b[1mAggregating metrics over 250 unique items...\u001b[0m\n",
      "\u001b[32m2024-02-27 18:50:48.414\u001b[0m | \u001b[1mINFO    \u001b[0m | \u001b[36m__main__\u001b[0m:\u001b[36m<module>\u001b[0m:\u001b[36m145\u001b[0m - \u001b[1m\n",
      "{'AP50': 0.796,\n",
      " 'R:ACC15': 0.96,\n",
      " 'R:ACC30': 0.988,\n",
      " 'R:auc@15': 0.8319329319866395,\n",
      " 'R:auc@30': 0.9030848575418423,\n",
      " 'R:medianErr': 1.5995460351290411,\n",
      " 't:ACC15': 0.948,\n",
      " 't:ACC30': 0.968,\n",
      " 't:auc@15': 0.7258332160167149,\n",
      " 't:auc@30': 0.8438462794888252,\n",
      " 't:medianErr': 2.5116017734810665}\u001b[0m\n"
     ]
    },
    {
     "name": "stdout",
     "output_type": "stream",
     "text": [
      "Acc: 199/250\n",
      "Onepose: 5\n"
     ]
    },
    {
     "name": "stderr",
     "output_type": "stream",
     "text": [
      "100%|██████████| 63/63 [01:45<00:00,  1.67s/it]\n",
      "100%|██████████| 53/53 [01:31<00:00,  1.72s/it]\n",
      "100%|██████████| 45/45 [01:16<00:00,  1.69s/it]\n",
      "100%|██████████| 50/50 [01:23<00:00,  1.68s/it]\n",
      "100%|██████████| 35/35 [01:01<00:00,  1.77s/it]\n",
      "100%|██████████| 36/36 [01:00<00:00,  1.67s/it]\n",
      "\u001b[32m2024-02-27 18:58:47.106\u001b[0m | \u001b[1mINFO    \u001b[0m | \u001b[36msrc.utils.metrics\u001b[0m:\u001b[36maggregate_metrics\u001b[0m:\u001b[36m192\u001b[0m - \u001b[1mAggregating metrics over 281 unique items...\u001b[0m\n",
      "\u001b[32m2024-02-27 18:58:47.109\u001b[0m | \u001b[1mINFO    \u001b[0m | \u001b[36m__main__\u001b[0m:\u001b[36m<module>\u001b[0m:\u001b[36m145\u001b[0m - \u001b[1m\n",
      "{'AP50': 0.9148936170212766,\n",
      " 'R:ACC15': 0.9539007092198581,\n",
      " 'R:ACC30': 0.9858156028368794,\n",
      " 'R:auc@15': 0.8343918119938571,\n",
      " 'R:auc@30': 0.9036074203852159,\n",
      " 'R:medianErr': 1.379787047516949,\n",
      " 't:ACC15': 0.8900709219858156,\n",
      " 't:ACC30': 0.9326241134751773,\n",
      " 't:auc@15': 0.6840602149908875,\n",
      " 't:auc@30': 0.7997465195312619,\n",
      " 't:medianErr': 3.027603115122786}\u001b[0m\n"
     ]
    },
    {
     "name": "stdout",
     "output_type": "stream",
     "text": [
      "Acc: 258/282\n",
      "Onepose: 6\n"
     ]
    },
    {
     "name": "stderr",
     "output_type": "stream",
     "text": [
      "100%|██████████| 37/37 [00:57<00:00,  1.56s/it]\n",
      "100%|██████████| 80/80 [02:08<00:00,  1.61s/it]\n",
      "100%|██████████| 109/109 [02:55<00:00,  1.61s/it]\n",
      "100%|██████████| 55/55 [01:28<00:00,  1.61s/it]\n",
      "100%|██████████| 43/43 [01:09<00:00,  1.62s/it]\n",
      "100%|██████████| 40/40 [01:04<00:00,  1.61s/it]\n",
      "\u001b[32m2024-02-27 19:08:31.882\u001b[0m | \u001b[1mINFO    \u001b[0m | \u001b[36msrc.utils.metrics\u001b[0m:\u001b[36maggregate_metrics\u001b[0m:\u001b[36m192\u001b[0m - \u001b[1mAggregating metrics over 364 unique items...\u001b[0m\n",
      "\u001b[32m2024-02-27 19:08:31.886\u001b[0m | \u001b[1mINFO    \u001b[0m | \u001b[36m__main__\u001b[0m:\u001b[36m<module>\u001b[0m:\u001b[36m145\u001b[0m - \u001b[1m\n",
      "{'AP50': 0.9065934065934066,\n",
      " 'R:ACC15': 0.9340659340659341,\n",
      " 'R:ACC30': 0.9752747252747253,\n",
      " 'R:auc@15': 0.7831804868045403,\n",
      " 'R:auc@30': 0.8719883756136131,\n",
      " 'R:medianErr': 1.6332355332340338,\n",
      " 't:ACC15': 0.8846153846153846,\n",
      " 't:ACC30': 0.9230769230769231,\n",
      " 't:auc@15': 0.6954636029854584,\n",
      " 't:auc@30': 0.8022165482646322,\n",
      " 't:medianErr': 2.53042622960984}\u001b[0m\n"
     ]
    },
    {
     "name": "stdout",
     "output_type": "stream",
     "text": [
      "Acc: 330/364\n",
      "Onepose: 7\n"
     ]
    },
    {
     "name": "stderr",
     "output_type": "stream",
     "text": [
      "100%|██████████| 76/76 [02:26<00:00,  1.92s/it]\n",
      "100%|██████████| 55/55 [01:49<00:00,  1.99s/it]\n",
      "100%|██████████| 62/62 [02:03<00:00,  1.99s/it]\n",
      "100%|██████████| 44/44 [01:25<00:00,  1.94s/it]\n",
      "100%|██████████| 43/43 [01:26<00:00,  2.01s/it]\n",
      "100%|██████████| 25/25 [00:48<00:00,  1.96s/it]\n",
      "\u001b[32m2024-02-27 19:18:31.621\u001b[0m | \u001b[1mINFO    \u001b[0m | \u001b[36msrc.utils.metrics\u001b[0m:\u001b[36maggregate_metrics\u001b[0m:\u001b[36m192\u001b[0m - \u001b[1mAggregating metrics over 305 unique items...\u001b[0m\n",
      "\u001b[32m2024-02-27 19:18:31.624\u001b[0m | \u001b[1mINFO    \u001b[0m | \u001b[36m__main__\u001b[0m:\u001b[36m<module>\u001b[0m:\u001b[36m145\u001b[0m - \u001b[1m\n",
      "{'AP50': 0.8459016393442623,\n",
      " 'R:ACC15': 0.8131147540983606,\n",
      " 'R:ACC30': 0.9114754098360656,\n",
      " 'R:auc@15': 0.6609865736481192,\n",
      " 'R:auc@30': 0.7668034714164282,\n",
      " 'R:medianErr': 2.543094694471582,\n",
      " 't:ACC15': 0.7377049180327869,\n",
      " 't:ACC30': 0.8065573770491803,\n",
      " 't:auc@15': 0.5114748796009978,\n",
      " 't:auc@30': 0.6446591276440762,\n",
      " 't:medianErr': 5.368302175079538}\u001b[0m\n"
     ]
    },
    {
     "name": "stdout",
     "output_type": "stream",
     "text": [
      "Acc: 258/305\n",
      "Onepose: 8\n"
     ]
    },
    {
     "name": "stderr",
     "output_type": "stream",
     "text": [
      "100%|██████████| 45/45 [01:10<00:00,  1.57s/it]\n",
      "100%|██████████| 65/65 [01:46<00:00,  1.65s/it]\n",
      "100%|██████████| 59/59 [01:37<00:00,  1.65s/it]\n",
      "100%|██████████| 67/67 [01:49<00:00,  1.64s/it]\n",
      "100%|██████████| 57/57 [01:32<00:00,  1.62s/it]\n",
      "100%|██████████| 34/34 [00:56<00:00,  1.67s/it]\n",
      "\u001b[32m2024-02-27 19:27:25.260\u001b[0m | \u001b[1mINFO    \u001b[0m | \u001b[36msrc.utils.metrics\u001b[0m:\u001b[36maggregate_metrics\u001b[0m:\u001b[36m192\u001b[0m - \u001b[1mAggregating metrics over 327 unique items...\u001b[0m\n",
      "\u001b[32m2024-02-27 19:27:25.263\u001b[0m | \u001b[1mINFO    \u001b[0m | \u001b[36m__main__\u001b[0m:\u001b[36m<module>\u001b[0m:\u001b[36m145\u001b[0m - \u001b[1m\n",
      "{'AP50': 0.5565749235474006,\n",
      " 'R:ACC15': 0.9541284403669725,\n",
      " 'R:ACC30': 0.9877675840978594,\n",
      " 'R:auc@15': 0.7718269935825475,\n",
      " 'R:auc@30': 0.8760422984932116,\n",
      " 'R:medianErr': 2.158119847033557,\n",
      " 't:ACC15': 0.8960244648318043,\n",
      " 't:ACC30': 0.9418960244648318,\n",
      " 't:auc@15': 0.6844138034881249,\n",
      " 't:auc@30': 0.8063447472286569,\n",
      " 't:medianErr': 3.189784989284022}\u001b[0m\n"
     ]
    },
    {
     "name": "stdout",
     "output_type": "stream",
     "text": [
      "Acc: 182/327\n",
      "Onepose: 9\n"
     ]
    },
    {
     "name": "stderr",
     "output_type": "stream",
     "text": [
      "100%|██████████| 55/55 [01:27<00:00,  1.60s/it]\n",
      "100%|██████████| 98/98 [02:38<00:00,  1.61s/it]\n",
      "100%|██████████| 87/87 [02:17<00:00,  1.58s/it]\n",
      "100%|██████████| 87/87 [02:16<00:00,  1.57s/it]\n",
      "100%|██████████| 45/45 [01:12<00:00,  1.61s/it]\n",
      "100%|██████████| 32/32 [00:52<00:00,  1.64s/it]\n",
      "\u001b[32m2024-02-27 19:38:10.109\u001b[0m | \u001b[1mINFO    \u001b[0m | \u001b[36msrc.utils.metrics\u001b[0m:\u001b[36maggregate_metrics\u001b[0m:\u001b[36m192\u001b[0m - \u001b[1mAggregating metrics over 404 unique items...\u001b[0m\n",
      "\u001b[32m2024-02-27 19:38:10.111\u001b[0m | \u001b[1mINFO    \u001b[0m | \u001b[36m__main__\u001b[0m:\u001b[36m<module>\u001b[0m:\u001b[36m145\u001b[0m - \u001b[1m\n",
      "{'AP50': 0.75,\n",
      " 'R:ACC15': 0.8465346534653465,\n",
      " 'R:ACC30': 0.9257425742574258,\n",
      " 'R:auc@15': 0.6160636066305867,\n",
      " 'R:auc@30': 0.7544076576966005,\n",
      " 'R:medianErr': 3.751936391553404,\n",
      " 't:ACC15': 0.6732673267326733,\n",
      " 't:ACC30': 0.8044554455445545,\n",
      " 't:auc@15': 0.4198149824995291,\n",
      " 't:auc@30': 0.5876182376876192,\n",
      " 't:medianErr': 7.68806905078822}\u001b[0m\n"
     ]
    },
    {
     "name": "stdout",
     "output_type": "stream",
     "text": [
      "Acc: 303/404\n"
     ]
    }
   ],
   "source": [
    "for label_idx, test_dict in enumerate(dir_list):\n",
    "    print(f\"Onepose: {label_idx}\")\n",
    "    metrics = dict()\n",
    "    metrics.update({'R_errs':[], 't_errs':[], 'inliers':[], \"identifiers\":[]})\n",
    "    sample_data = dir_list[label_idx][\"0\"][0]\n",
    "    label = sample_data.split(\"/\")[0]\n",
    "    name = label.split(\"-\")[1]\n",
    "    dir_name = os.path.dirname(sample_data)\n",
    "    FULL_ROOT_DIR = os.path.join(ROOT_DIR, dir_name)\n",
    "    recall_image, all_image = 0, 0\n",
    "    for rotation_key, rotation_list in zip(test_dict.keys(), test_dict.values()):\n",
    "        for pair_idx, pair_name in enumerate(tqdm(rotation_list)):\n",
    "            all_image = all_image + 1\n",
    "            base_name = os.path.basename(pair_name)\n",
    "            idx0_name = base_name.split(\"-\")[0]\n",
    "            idx1_name = base_name.split(\"-\")[1]\n",
    "            image0_name = os.path.join(FULL_ROOT_DIR, idx0_name)\n",
    "\n",
    "            image1_name = os.path.join(FULL_ROOT_DIR.replace(\"color\", \"color\"), idx1_name)\n",
    "            intrinsic_path = image0_name.replace(\"color\", \"intrin_ba\").replace(\"png\", \"txt\")\n",
    "            K0 = np.loadtxt(intrinsic_path, delimiter=' ')\n",
    "            intrinsic_path = image1_name.replace(\"color\", \"intrin_ba\").replace(\"png\", \"txt\")\n",
    "            K1 = np.loadtxt(intrinsic_path, delimiter=' ')\n",
    "\n",
    "            image0 = cv2.imread(image0_name)\n",
    "            ref_torch_image = set_torch_image(image0, center_crop=True)\n",
    "            ref_fea = get_cls_token_torch(dinov2_model, ref_torch_image)\n",
    "            image1 = cv2.imread(image1_name)\n",
    "            image_h, image_w, _ = image1.shape\n",
    "            t1 = time.time()\n",
    "            masks = MASK_GEN.generate(image1)\n",
    "            t2 = time.time()\n",
    "            similarity_score, top_images = np.array([0, 0, 0], np.float32), [[], [], []]\n",
    "            t3 = time.time()\n",
    "            compact_percent = 0.3\n",
    "            for xxx, mask in enumerate(masks):\n",
    "                object_mask = np.expand_dims(mask[\"segmentation\"], -1)\n",
    "                x0, y0, w, h = mask[\"bbox\"]\n",
    "                x1, y1 = x0 + w, y0 + h\n",
    "                x0 -= int(w * compact_percent)\n",
    "                y0 -= int(h * compact_percent)\n",
    "                x1 += int(w * compact_percent)\n",
    "                y1 += int(h * compact_percent)\n",
    "                box = np.array([x0, y0, x1, y1])\n",
    "                resize_shape = np.array([y1 - y0, x1 - x0])\n",
    "                K_crop, K_crop_homo = get_K_crop_resize(box, K1, resize_shape)\n",
    "                image_crop, _ = get_image_crop_resize(image1, box, resize_shape)\n",
    "                # object_mask,_ = get_image_crop_resize(object_mask, box, resize_shape)\n",
    "                box_new = np.array([0, 0, x1 - x0, y1 - y0])\n",
    "                resize_shape = np.array([512, 512])\n",
    "                K_crop, K_crop_homo = get_K_crop_resize(box_new, K_crop, resize_shape)\n",
    "                image_crop, _ = get_image_crop_resize(image_crop, box_new, resize_shape)\n",
    "                crop_tensor = set_torch_image(image_crop, center_crop=True)\n",
    "                with torch.no_grad():\n",
    "                    fea = get_cls_token_torch(dinov2_model, crop_tensor)\n",
    "                score = F.cosine_similarity(ref_fea, fea, dim=1, eps=1e-8)\n",
    "                if (score.item() > similarity_score).any():\n",
    "                    mask[\"crop_image\"] = image_crop\n",
    "                    mask[\"K\"] = K_crop\n",
    "                    mask[\"bbox\"] = box\n",
    "                    min_idx = np.argmin(similarity_score)\n",
    "                    similarity_score[min_idx] = score.item()\n",
    "                    top_images[min_idx] = mask.copy()\n",
    "\n",
    "            img0 = cv2.cvtColor(image0, cv2.COLOR_BGR2GRAY)\n",
    "            img0 = torch.from_numpy(img0).float()[None] / 255.\n",
    "            img0 = img0.unsqueeze(0).cuda()\n",
    "\n",
    "            matching_score = [[0] for _ in range(len(top_images))]\n",
    "            for top_idx in range(len(top_images)):\n",
    "                if \"crop_image\" not in top_images[top_idx]:\n",
    "                    continue\n",
    "                img1 = cv2.cvtColor(top_images[top_idx][\"crop_image\"], cv2.COLOR_BGR2GRAY)\n",
    "                img1 = torch.from_numpy(img1).float()[None] / 255.\n",
    "                img1 = img1.unsqueeze(0).cuda()\n",
    "                batch = {'image0':img0, 'image1':img1}\n",
    "                with torch.no_grad():\n",
    "                    matcher(batch)\n",
    "                    mkpts0 = batch['mkpts0_f'].cpu().numpy()\n",
    "                    mkpts1 = batch['mkpts1_f'].cpu().numpy()\n",
    "                    confidences = batch[\"mconf\"].cpu().numpy()\n",
    "                conf_mask = np.where(confidences > 0.9)\n",
    "                matching_score[top_idx] = conf_mask[0].shape[0]\n",
    "                top_images[top_idx][\"mkpts0\"] = mkpts0\n",
    "                top_images[top_idx][\"mkpts1\"] = mkpts1\n",
    "                top_images[top_idx][\"mconf\"] = confidences\n",
    "            #---------------------------------------------------\n",
    "            # crop_image = cv2.resize(top_images[np.argmax(matching_score)][\"crop_image\"],(256,256))\n",
    "            # que_image = cv2.resize(image0,(256,256))\n",
    "            # image = np.hstack((que_image, crop_image))\n",
    "            # for top_idx in range(len(top_images)):\n",
    "            #     crop_image = top_images[top_idx][\"crop_image\"]\n",
    "            #     score = matching_score[top_idx]\n",
    "            #     crop_image = cv2.resize(crop_image,(256,256))\n",
    "            #     cv2.putText(crop_image,f'{score}',(100,100),cv2.FONT_HERSHEY_COMPLEX,1,(0,0,255),1)\n",
    "            #     image = np.hstack((image, crop_image))\n",
    "            # cv2.imwrite(f\"segment_anything/crop_images/{idx}.jpg\", image)\n",
    "            #---------------------------------------------------\n",
    "            t4 = time.time()\n",
    "            # print(f\"t4-t3: object detection:{1000*(t4-t3)} ms\")\n",
    "            pose0_name = image0_name.replace(\"color\", \"poses_ba\").replace(\"png\",\"txt\")\n",
    "            pose1_name = image1_name.replace(\"color\", \"poses_ba\").replace(\"png\",\"txt\")\n",
    "            pose0 = np.loadtxt(pose0_name)\n",
    "            pose1 = np.loadtxt(pose1_name)\n",
    "            # pose0 = np.vstack((pose0, np.array([[0,0,0,1]])))\n",
    "            # pose1 = np.vstack((pose1, np.array([[0,0,0,1]])))\n",
    "            relative_pose =  np.matmul(pose1, inv(pose0))\n",
    "            t = relative_pose[:3, -1].reshape(1, 3)\n",
    "            if \"crop_image\" not in top_images[top_idx]:\n",
    "                continue\n",
    "            max_match_idx = np.argmax(matching_score)\n",
    "            pre_bbox  = top_images[max_match_idx][\"bbox\"]\n",
    "            mkpts0 = top_images[max_match_idx][\"mkpts0\"]\n",
    "            mkpts1 = top_images[max_match_idx][\"mkpts1\"]\n",
    "            pre_K = top_images[max_match_idx][\"K\"]\n",
    "\n",
    "            _3d_bbox = np.loadtxt(f\"{os.path.join(ROOT_DIR, label)}/box3d_corners.txt\")\n",
    "            bbox_pts_3d, _ = project_points(_3d_bbox, pose1[:3, :4], K1)\n",
    "            bbox_pts_3d = bbox_pts_3d.astype(np.int32)\n",
    "            x0, y0, w, h = cv2.boundingRect(bbox_pts_3d)\n",
    "            x1, y1 = x0 + w, y0 + h\n",
    "            gt_bbox = np.array([x0, y0, x1, y1])\n",
    "            is_recalled = recall_object(pre_bbox , gt_bbox)\n",
    "            recall_image = recall_image + int(is_recalled > 0.5)\n",
    "            ret = estimate_pose(mkpts0, mkpts1, K0, pre_K, 0.5, 0.99)\n",
    "            if ret is  not None:\n",
    "                Rot, t, inliers = ret\n",
    "                t_err, R_err = relative_pose_error(relative_pose, Rot, t, ignore_gt_t_thr=0.0)\n",
    "                metrics['R_errs'].append(R_err)\n",
    "                metrics['t_errs'].append(t_err)\n",
    "            else:\n",
    "                metrics['R_errs'].append(90)\n",
    "                metrics['t_errs'].append(90)\n",
    "            metrics[\"identifiers\"].append(pair_name)\n",
    "\n",
    "\n",
    "    print(f\"Acc: {recall_image}/{all_image}\")\n",
    "    import pprint\n",
    "    from src.utils.metrics import (\n",
    "        aggregate_metrics\n",
    "    )\n",
    "    from loguru import logger\n",
    "    val_metrics_4tb = aggregate_metrics(metrics, 5e-4)\n",
    "    val_metrics_4tb[\"AP50\"] = recall_image/all_image\n",
    "    logger.info('\\n' + pprint.pformat(val_metrics_4tb))\n",
    "\n",
    "    res_table.append([f\"{name }\"] + list(val_metrics_4tb.values()))"
   ]
  },
  {
   "cell_type": "code",
   "execution_count": 5,
   "metadata": {},
   "outputs": [
    {
     "name": "stdout",
     "output_type": "stream",
     "text": [
      "╒════════════════╤════════════╤════════════╤═══════════╤═══════════╤═══════════════╤════════════╤════════════╤═══════════╤═══════════╤═══════════════╤══════════╕\n",
      "│ Category       │   R:auc@15 │   R:auc@30 │   R:ACC15 │   R:ACC30 │   R:medianErr │   t:auc@15 │   t:auc@30 │   t:ACC15 │   t:ACC30 │   t:medianErr │     AP50 │\n",
      "╞════════════════╪════════════╪════════════╪═══════════╪═══════════╪═══════════════╪════════════╪════════════╪═══════════╪═══════════╪═══════════════╪══════════╡\n",
      "│ aptamil        │   0.671279 │   0.79792  │  0.894737 │  0.94508  │       2.89285 │   0.468633 │   0.62122  │  0.707094 │  0.819222 │       6.53454 │ 0.915718 │\n",
      "├────────────────┼────────────┼────────────┼───────────┼───────────┼───────────────┼────────────┼────────────┼───────────┼───────────┼───────────────┼──────────┤\n",
      "│ jzhg           │   0.824372 │   0.897068 │  0.955782 │  0.97619  │       1.50379 │   0.696935 │   0.81914  │  0.908163 │  0.952381 │       2.74556 │ 0.911565 │\n",
      "├────────────────┼────────────┼────────────┼───────────┼───────────┼───────────────┼────────────┼────────────┼───────────┼───────────┼───────────────┼──────────┤\n",
      "│ minipuff       │   0.773874 │   0.862028 │  0.929515 │  0.982379 │       1.51574 │   0.675029 │   0.797644 │  0.876652 │  0.942731 │       3.01591 │ 0.898678 │\n",
      "├────────────────┼────────────┼────────────┼───────────┼───────────┼───────────────┼────────────┼────────────┼───────────┼───────────┼───────────────┼──────────┤\n",
      "│ hlyormosiapie  │   0.70592  │   0.81921  │  0.875912 │  0.978102 │       2.23773 │   0.571555 │   0.700859 │  0.784672 │  0.857664 │       4.46292 │ 0.956204 │\n",
      "├────────────────┼────────────┼────────────┼───────────┼───────────┼───────────────┼────────────┼────────────┼───────────┼───────────┼───────────────┼──────────┤\n",
      "│ brownhouse     │   0.831933 │   0.903085 │  0.96     │  0.988    │       1.59955 │   0.725833 │   0.843846 │  0.948    │  0.968    │       2.5116  │ 0.796    │\n",
      "├────────────────┼────────────┼────────────┼───────────┼───────────┼───────────────┼────────────┼────────────┼───────────┼───────────┼───────────────┼──────────┤\n",
      "│ oreo           │   0.834392 │   0.903607 │  0.953901 │  0.985816 │       1.37979 │   0.68406  │   0.799747 │  0.890071 │  0.932624 │       3.0276  │ 0.914894 │\n",
      "├────────────────┼────────────┼────────────┼───────────┼───────────┼───────────────┼────────────┼────────────┼───────────┼───────────┼───────────────┼──────────┤\n",
      "│ mfmilkcake     │   0.78318  │   0.871988 │  0.934066 │  0.975275 │       1.63324 │   0.695464 │   0.802217 │  0.884615 │  0.923077 │       2.53043 │ 0.906593 │\n",
      "├────────────────┼────────────┼────────────┼───────────┼───────────┼───────────────┼────────────┼────────────┼───────────┼───────────┼───────────────┼──────────┤\n",
      "│ diycookies     │   0.660987 │   0.766803 │  0.813115 │  0.911475 │       2.54309 │   0.511475 │   0.644659 │  0.737705 │  0.806557 │       5.3683  │ 0.845902 │\n",
      "├────────────────┼────────────┼────────────┼───────────┼───────────┼───────────────┼────────────┼────────────┼───────────┼───────────┼───────────────┼──────────┤\n",
      "│ taipingcookies │   0.771827 │   0.876042 │  0.954128 │  0.987768 │       2.15812 │   0.684414 │   0.806345 │  0.896024 │  0.941896 │       3.18978 │ 0.556575 │\n",
      "├────────────────┼────────────┼────────────┼───────────┼───────────┼───────────────┼────────────┼────────────┼───────────┼───────────┼───────────────┼──────────┤\n",
      "│ tee            │   0.616064 │   0.754408 │  0.846535 │  0.925743 │       3.75194 │   0.419815 │   0.587618 │  0.673267 │  0.804455 │       7.68807 │ 0.75     │\n",
      "├────────────────┼────────────┼────────────┼───────────┼───────────┼───────────────┼────────────┼────────────┼───────────┼───────────┼───────────────┼──────────┤\n",
      "│ Avg            │   0.747383 │   0.845216 │  0.911769 │  0.965583 │       2.12158 │   0.613321 │   0.74233  │  0.830626 │  0.894861 │       4.10747 │ 0.845213 │\n",
      "╘════════════════╧════════════╧════════════╧═══════════╧═══════════╧═══════════════╧════════════╧════════════╧═══════════╧═══════════╧═══════════════╧══════════╛\n"
     ]
    }
   ],
   "source": [
    "from tabulate import tabulate\n",
    "headers = [\"Category\"] + list(val_metrics_4tb.keys())\n",
    "all_data = np.array(res_table)[:, 1:].astype(np.float32)\n",
    "res_table.append([\"Avg\"] + all_data.mean(0).tolist())\n",
    "print(tabulate(res_table, headers=headers, tablefmt='fancy_grid'))"
   ]
  },
  {
   "cell_type": "code",
   "execution_count": null,
   "metadata": {},
   "outputs": [],
   "source": []
  }
 ],
 "metadata": {
  "kernelspec": {
   "display_name": "pope",
   "language": "python",
   "name": "python3"
  },
  "language_info": {
   "codemirror_mode": {
    "name": "ipython",
    "version": 3
   },
   "file_extension": ".py",
   "mimetype": "text/x-python",
   "name": "python",
   "nbconvert_exporter": "python",
   "pygments_lexer": "ipython3",
   "version": "3.9.18"
  }
 },
 "nbformat": 4,
 "nbformat_minor": 2
}
