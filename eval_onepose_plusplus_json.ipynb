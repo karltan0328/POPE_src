{
 "cells": [
  {
   "cell_type": "code",
   "execution_count": 1,
   "metadata": {},
   "outputs": [
    {
     "name": "stdout",
     "output_type": "stream",
     "text": [
      "layer_name: ['self', 'cross', 'self', 'cross', 'self', 'cross', 'self', 'cross']\n",
      "layer_name: ['self', 'cross']\n"
     ]
    },
    {
     "name": "stderr",
     "output_type": "stream",
     "text": [
      "\u001b[32m2024-02-27 22:23:11.684\u001b[0m | \u001b[1mINFO    \u001b[0m | \u001b[36mpope_model_api\u001b[0m:\u001b[36m<module>\u001b[0m:\u001b[36m182\u001b[0m - \u001b[1mload Matcher successfully\u001b[0m\n"
     ]
    }
   ],
   "source": [
    "from pope_model_api import *"
   ]
  },
  {
   "cell_type": "code",
   "execution_count": 2,
   "metadata": {},
   "outputs": [
    {
     "name": "stderr",
     "output_type": "stream",
     "text": [
      "\u001b[32m2024-02-27 22:23:19.685\u001b[0m | \u001b[1mINFO    \u001b[0m | \u001b[36m__main__\u001b[0m:\u001b[36m<module>\u001b[0m:\u001b[36m6\u001b[0m - \u001b[1mload SAM model from weights/sam_vit_h_4b8939.pth\u001b[0m\n"
     ]
    },
    {
     "data": {
      "text/plain": [
       "DinoVisionTransformer(\n",
       "  (patch_embed): PatchEmbed(\n",
       "    (proj): Conv2d(3, 384, kernel_size=(14, 14), stride=(14, 14))\n",
       "    (norm): Identity()\n",
       "  )\n",
       "  (blocks): ModuleList(\n",
       "    (0-11): 12 x NestedTensorBlock(\n",
       "      (norm1): LayerNorm((384,), eps=1e-06, elementwise_affine=True)\n",
       "      (attn): MemEffAttention(\n",
       "        (qkv): Linear(in_features=384, out_features=1152, bias=True)\n",
       "        (attn_drop): Dropout(p=0.0, inplace=False)\n",
       "        (proj): Linear(in_features=384, out_features=384, bias=True)\n",
       "        (proj_drop): Dropout(p=0.0, inplace=False)\n",
       "      )\n",
       "      (ls1): LayerScale()\n",
       "      (drop_path1): DropPath()\n",
       "      (norm2): LayerNorm((384,), eps=1e-06, elementwise_affine=True)\n",
       "      (mlp): Mlp(\n",
       "        (fc1): Linear(in_features=384, out_features=1536, bias=True)\n",
       "        (act): GELU(approximate='none')\n",
       "        (fc2): Linear(in_features=1536, out_features=384, bias=True)\n",
       "        (drop): Dropout(p=0.0, inplace=False)\n",
       "      )\n",
       "      (ls2): LayerScale()\n",
       "      (drop_path2): DropPath()\n",
       "    )\n",
       "  )\n",
       "  (norm): LayerNorm((384,), eps=1e-06, elementwise_affine=True)\n",
       "  (head): Identity()\n",
       ")"
      ]
     },
     "execution_count": 2,
     "metadata": {},
     "output_type": "execute_result"
    }
   ],
   "source": [
    "ckpt, model_type = get_model_info(\"h\")\n",
    "sam = sam_model_registry[model_type](checkpoint=ckpt)\n",
    "DEVICE = \"cuda\"\n",
    "sam.to(device=DEVICE)\n",
    "MASK_GEN = SamAutomaticMaskGenerator(sam)\n",
    "logger.info(f\"load SAM model from {ckpt}\")\n",
    "crop_tool = CropImage()\n",
    "dinov2_model = load_dinov2_model()\n",
    "dinov2_model.to(\"cuda:0\")"
   ]
  },
  {
   "cell_type": "code",
   "execution_count": 3,
   "metadata": {},
   "outputs": [],
   "source": [
    "metrics = dict()\n",
    "metrics.update({'R_errs':[], 't_errs':[], 'inliers':[] , \"identifiers\":[]})\n",
    "\n",
    "# load dataset from 'data/openpose' or /data/onepose_plusplus\n",
    "ROOT_DIR = \"data/onepose_plusplus/\"\n",
    "res_table = []\n",
    "\n",
    "import json\n",
    "with open(\"data/pairs/OneposePlusPlus-test.json\") as f:\n",
    "    dir_list = json.load(f)"
   ]
  },
  {
   "cell_type": "code",
   "execution_count": 4,
   "metadata": {},
   "outputs": [
    {
     "name": "stdout",
     "output_type": "stream",
     "text": [
      "OneposePlusPlus: 0\n"
     ]
    },
    {
     "name": "stderr",
     "output_type": "stream",
     "text": [
      "100%|██████████| 26/26 [00:42<00:00,  1.64s/it]\n",
      "100%|██████████| 32/32 [00:50<00:00,  1.57s/it]\n",
      "100%|██████████| 34/34 [00:54<00:00,  1.60s/it]\n",
      "100%|██████████| 52/52 [01:22<00:00,  1.59s/it]\n",
      "100%|██████████| 48/48 [01:14<00:00,  1.56s/it]\n",
      "100%|██████████| 47/47 [01:11<00:00,  1.53s/it]\n",
      "\u001b[32m2024-02-27 22:29:37.594\u001b[0m | \u001b[1mINFO    \u001b[0m | \u001b[36msrc.utils.metrics\u001b[0m:\u001b[36maggregate_metrics\u001b[0m:\u001b[36m192\u001b[0m - \u001b[1mAggregating metrics over 238 unique items...\u001b[0m\n",
      "\u001b[32m2024-02-27 22:29:37.596\u001b[0m | \u001b[1mINFO    \u001b[0m | \u001b[36m__main__\u001b[0m:\u001b[36m<module>\u001b[0m:\u001b[36m145\u001b[0m - \u001b[1m\n",
      "{'AP50': 0.9623430962343096,\n",
      " 'R:ACC15': 0.8158995815899581,\n",
      " 'R:ACC30': 0.9372384937238494,\n",
      " 'R:auc@15': 0.6134299935664466,\n",
      " 'R:auc@30': 0.7454990692579686,\n",
      " 'R:medianErr': 3.368101955129031,\n",
      " 't:ACC15': 0.7698744769874477,\n",
      " 't:ACC30': 0.8619246861924686,\n",
      " 't:auc@15': 0.532828666187968,\n",
      " 't:auc@30': 0.6757969013665188,\n",
      " 't:medianErr': 5.634048917013743}\u001b[0m\n"
     ]
    },
    {
     "name": "stdout",
     "output_type": "stream",
     "text": [
      "Acc: 230/239\n",
      "OneposePlusPlus: 1\n"
     ]
    },
    {
     "name": "stderr",
     "output_type": "stream",
     "text": [
      "100%|██████████| 45/45 [01:12<00:00,  1.61s/it]\n",
      "100%|██████████| 50/50 [01:21<00:00,  1.63s/it]\n",
      "100%|██████████| 73/73 [01:56<00:00,  1.60s/it]\n",
      "100%|██████████| 55/55 [01:29<00:00,  1.63s/it]\n",
      "100%|██████████| 50/50 [01:17<00:00,  1.56s/it]\n",
      "100%|██████████| 42/42 [01:05<00:00,  1.57s/it]\n",
      "\u001b[32m2024-02-27 22:38:01.546\u001b[0m | \u001b[1mINFO    \u001b[0m | \u001b[36msrc.utils.metrics\u001b[0m:\u001b[36maggregate_metrics\u001b[0m:\u001b[36m192\u001b[0m - \u001b[1mAggregating metrics over 315 unique items...\u001b[0m\n",
      "\u001b[32m2024-02-27 22:38:01.549\u001b[0m | \u001b[1mINFO    \u001b[0m | \u001b[36m__main__\u001b[0m:\u001b[36m<module>\u001b[0m:\u001b[36m145\u001b[0m - \u001b[1m\n",
      "{'AP50': 0.9841269841269841,\n",
      " 'R:ACC15': 0.7841269841269841,\n",
      " 'R:ACC30': 0.9523809523809523,\n",
      " 'R:auc@15': 0.5268101177205974,\n",
      " 'R:auc@30': 0.7081316740908508,\n",
      " 'R:medianErr': 5.549820603995841,\n",
      " 't:ACC15': 0.6793650793650794,\n",
      " 't:ACC30': 0.8317460317460318,\n",
      " 't:auc@15': 0.43084302383962897,\n",
      " 't:auc@30': 0.5966990914612703,\n",
      " 't:medianErr': 8.021210497840762}\u001b[0m\n"
     ]
    },
    {
     "name": "stdout",
     "output_type": "stream",
     "text": [
      "Acc: 310/315\n",
      "OneposePlusPlus: 2\n"
     ]
    },
    {
     "name": "stderr",
     "output_type": "stream",
     "text": [
      "100%|██████████| 38/38 [01:00<00:00,  1.59s/it]\n",
      "100%|██████████| 44/44 [01:11<00:00,  1.62s/it]\n",
      "100%|██████████| 43/43 [01:09<00:00,  1.62s/it]\n",
      "100%|██████████| 35/35 [00:56<00:00,  1.62s/it]\n",
      "100%|██████████| 35/35 [00:56<00:00,  1.61s/it]\n",
      "100%|██████████| 38/38 [01:02<00:00,  1.65s/it]\n",
      "\u001b[32m2024-02-27 22:44:18.722\u001b[0m | \u001b[1mINFO    \u001b[0m | \u001b[36msrc.utils.metrics\u001b[0m:\u001b[36maggregate_metrics\u001b[0m:\u001b[36m192\u001b[0m - \u001b[1mAggregating metrics over 233 unique items...\u001b[0m\n",
      "\u001b[32m2024-02-27 22:44:18.724\u001b[0m | \u001b[1mINFO    \u001b[0m | \u001b[36m__main__\u001b[0m:\u001b[36m<module>\u001b[0m:\u001b[36m145\u001b[0m - \u001b[1m\n",
      "{'AP50': 0.3562231759656652,\n",
      " 'R:ACC15': 0.7811158798283262,\n",
      " 'R:ACC30': 0.9055793991416309,\n",
      " 'R:auc@15': 0.5445342675787026,\n",
      " 'R:auc@30': 0.6969966737806708,\n",
      " 'R:medianErr': 4.910995757169512,\n",
      " 't:ACC15': 0.575107296137339,\n",
      " 't:ACC30': 0.7510729613733905,\n",
      " 't:auc@15': 0.36339977693720893,\n",
      " 't:auc@30': 0.5203539369162409,\n",
      " 't:medianErr': 10.877311471936949}\u001b[0m\n"
     ]
    },
    {
     "name": "stdout",
     "output_type": "stream",
     "text": [
      "Acc: 83/233\n",
      "OneposePlusPlus: 3\n"
     ]
    },
    {
     "name": "stderr",
     "output_type": "stream",
     "text": [
      "100%|██████████| 42/42 [01:07<00:00,  1.60s/it]\n",
      "100%|██████████| 62/62 [01:44<00:00,  1.69s/it]\n",
      "100%|██████████| 58/58 [01:38<00:00,  1.69s/it]\n",
      "100%|██████████| 45/45 [01:16<00:00,  1.70s/it]\n",
      "100%|██████████| 44/44 [01:10<00:00,  1.60s/it]\n",
      "100%|██████████| 49/49 [01:19<00:00,  1.62s/it]\n",
      "\u001b[32m2024-02-27 22:52:34.402\u001b[0m | \u001b[1mINFO    \u001b[0m | \u001b[36msrc.utils.metrics\u001b[0m:\u001b[36maggregate_metrics\u001b[0m:\u001b[36m192\u001b[0m - \u001b[1mAggregating metrics over 300 unique items...\u001b[0m\n",
      "\u001b[32m2024-02-27 22:52:34.405\u001b[0m | \u001b[1mINFO    \u001b[0m | \u001b[36m__main__\u001b[0m:\u001b[36m<module>\u001b[0m:\u001b[36m145\u001b[0m - \u001b[1m\n",
      "{'AP50': 0.97,\n",
      " 'R:ACC15': 0.71,\n",
      " 'R:ACC30': 0.8766666666666667,\n",
      " 'R:auc@15': 0.505033128572829,\n",
      " 'R:auc@30': 0.6558561446159776,\n",
      " 'R:medianErr': 5.270710075433579,\n",
      " 't:ACC15': 0.5333333333333333,\n",
      " 't:ACC30': 0.67,\n",
      " 't:auc@15': 0.3246783573526844,\n",
      " 't:auc@30': 0.46834176295429464,\n",
      " 't:medianErr': 12.870571931412455}\u001b[0m\n"
     ]
    },
    {
     "name": "stdout",
     "output_type": "stream",
     "text": [
      "Acc: 291/300\n",
      "OneposePlusPlus: 4\n"
     ]
    },
    {
     "name": "stderr",
     "output_type": "stream",
     "text": [
      "100%|██████████| 63/63 [01:43<00:00,  1.65s/it]\n",
      "100%|██████████| 66/66 [01:47<00:00,  1.63s/it]\n",
      "100%|██████████| 58/58 [01:34<00:00,  1.63s/it]\n",
      "100%|██████████| 57/57 [01:35<00:00,  1.67s/it]\n",
      "100%|██████████| 67/67 [01:49<00:00,  1.63s/it]\n",
      "100%|██████████| 61/61 [01:40<00:00,  1.64s/it]\n",
      "\u001b[32m2024-02-27 23:02:45.229\u001b[0m | \u001b[1mINFO    \u001b[0m | \u001b[36msrc.utils.metrics\u001b[0m:\u001b[36maggregate_metrics\u001b[0m:\u001b[36m192\u001b[0m - \u001b[1mAggregating metrics over 371 unique items...\u001b[0m\n",
      "\u001b[32m2024-02-27 23:02:45.232\u001b[0m | \u001b[1mINFO    \u001b[0m | \u001b[36m__main__\u001b[0m:\u001b[36m<module>\u001b[0m:\u001b[36m145\u001b[0m - \u001b[1m\n",
      "{'AP50': 0.9758064516129032,\n",
      " 'R:ACC15': 0.8655913978494624,\n",
      " 'R:ACC30': 0.9247311827956989,\n",
      " 'R:auc@15': 0.6637206578785455,\n",
      " 'R:auc@30': 0.782908711230137,\n",
      " 'R:medianErr': 3.189498198221095,\n",
      " 't:ACC15': 0.75,\n",
      " 't:ACC30': 0.8413978494623656,\n",
      " 't:auc@15': 0.5334172243477394,\n",
      " 't:auc@30': 0.6716787378493918,\n",
      " 't:medianErr': 4.885667075661314}\u001b[0m\n"
     ]
    },
    {
     "name": "stdout",
     "output_type": "stream",
     "text": [
      "Acc: 363/372\n",
      "OneposePlusPlus: 5\n"
     ]
    },
    {
     "name": "stderr",
     "output_type": "stream",
     "text": [
      "100%|██████████| 32/32 [00:47<00:00,  1.49s/it]\n",
      "100%|██████████| 63/63 [01:38<00:00,  1.56s/it]\n",
      "100%|██████████| 59/59 [01:30<00:00,  1.54s/it]\n",
      "100%|██████████| 53/53 [01:18<00:00,  1.49s/it]\n",
      "100%|██████████| 66/66 [01:38<00:00,  1.49s/it]\n",
      "100%|██████████| 67/67 [01:39<00:00,  1.48s/it]\n",
      "\u001b[32m2024-02-27 23:11:18.632\u001b[0m | \u001b[1mINFO    \u001b[0m | \u001b[36msrc.utils.metrics\u001b[0m:\u001b[36maggregate_metrics\u001b[0m:\u001b[36m192\u001b[0m - \u001b[1mAggregating metrics over 340 unique items...\u001b[0m\n",
      "\u001b[32m2024-02-27 23:11:18.635\u001b[0m | \u001b[1mINFO    \u001b[0m | \u001b[36m__main__\u001b[0m:\u001b[36m<module>\u001b[0m:\u001b[36m145\u001b[0m - \u001b[1m\n",
      "{'AP50': 0.9823529411764705,\n",
      " 'R:ACC15': 0.7058823529411765,\n",
      " 'R:ACC30': 0.9058823529411765,\n",
      " 'R:auc@15': 0.44587502560978426,\n",
      " 'R:auc@30': 0.6307118349713775,\n",
      " 'R:medianErr': 7.150421695503021,\n",
      " 't:ACC15': 0.5676470588235294,\n",
      " 't:ACC30': 0.6852941176470588,\n",
      " 't:auc@15': 0.3415159877310475,\n",
      " 't:auc@30': 0.48979000463722905,\n",
      " 't:medianErr': 10.582926902212254}\u001b[0m\n"
     ]
    },
    {
     "name": "stdout",
     "output_type": "stream",
     "text": [
      "Acc: 334/340\n",
      "OneposePlusPlus: 6\n"
     ]
    },
    {
     "name": "stderr",
     "output_type": "stream",
     "text": [
      "100%|██████████| 25/25 [00:40<00:00,  1.64s/it]\n",
      "100%|██████████| 41/41 [01:09<00:00,  1.70s/it]\n",
      "100%|██████████| 30/30 [00:51<00:00,  1.70s/it]\n",
      "100%|██████████| 32/32 [00:52<00:00,  1.65s/it]\n",
      "100%|██████████| 32/32 [00:51<00:00,  1.62s/it]\n",
      "100%|██████████| 34/34 [00:57<00:00,  1.71s/it]\n",
      "\u001b[32m2024-02-27 23:16:42.917\u001b[0m | \u001b[1mINFO    \u001b[0m | \u001b[36msrc.utils.metrics\u001b[0m:\u001b[36maggregate_metrics\u001b[0m:\u001b[36m192\u001b[0m - \u001b[1mAggregating metrics over 194 unique items...\u001b[0m\n",
      "\u001b[32m2024-02-27 23:16:42.919\u001b[0m | \u001b[1mINFO    \u001b[0m | \u001b[36m__main__\u001b[0m:\u001b[36m<module>\u001b[0m:\u001b[36m145\u001b[0m - \u001b[1m\n",
      "{'AP50': 0.9742268041237113,\n",
      " 'R:ACC15': 0.8556701030927835,\n",
      " 'R:ACC30': 0.9536082474226805,\n",
      " 'R:auc@15': 0.6250803224662657,\n",
      " 'R:auc@30': 0.7648634093130913,\n",
      " 'R:medianErr': 3.580474201408669,\n",
      " 't:ACC15': 0.7628865979381443,\n",
      " 't:ACC30': 0.8195876288659794,\n",
      " 't:auc@15': 0.5050050080386722,\n",
      " 't:auc@30': 0.6523115635173845,\n",
      " 't:medianErr': 5.796677096293451}\u001b[0m\n"
     ]
    },
    {
     "name": "stdout",
     "output_type": "stream",
     "text": [
      "Acc: 189/194\n",
      "OneposePlusPlus: 7\n"
     ]
    },
    {
     "name": "stderr",
     "output_type": "stream",
     "text": [
      "100%|██████████| 32/32 [00:52<00:00,  1.65s/it]\n",
      "100%|██████████| 35/35 [00:55<00:00,  1.60s/it]\n",
      "100%|██████████| 38/38 [01:01<00:00,  1.62s/it]\n",
      "100%|██████████| 59/59 [01:33<00:00,  1.59s/it]\n",
      "100%|██████████| 30/30 [00:49<00:00,  1.66s/it]\n",
      "100%|██████████| 43/43 [01:08<00:00,  1.60s/it]\n",
      "\u001b[32m2024-02-27 23:23:05.524\u001b[0m | \u001b[1mINFO    \u001b[0m | \u001b[36msrc.utils.metrics\u001b[0m:\u001b[36maggregate_metrics\u001b[0m:\u001b[36m192\u001b[0m - \u001b[1mAggregating metrics over 237 unique items...\u001b[0m\n",
      "\u001b[32m2024-02-27 23:23:05.527\u001b[0m | \u001b[1mINFO    \u001b[0m | \u001b[36m__main__\u001b[0m:\u001b[36m<module>\u001b[0m:\u001b[36m145\u001b[0m - \u001b[1m\n",
      "{'AP50': 0.8396624472573839,\n",
      " 'R:ACC15': 0.6919831223628692,\n",
      " 'R:ACC30': 0.890295358649789,\n",
      " 'R:auc@15': 0.4710271210415721,\n",
      " 'R:auc@30': 0.6439674304365373,\n",
      " 'R:medianErr': 7.101761104192803,\n",
      " 't:ACC15': 0.5443037974683544,\n",
      " 't:ACC30': 0.7257383966244726,\n",
      " 't:auc@15': 0.3355330558282735,\n",
      " 't:auc@30': 0.49506446748286614,\n",
      " 't:medianErr': 11.892359227728361}\u001b[0m\n"
     ]
    },
    {
     "name": "stdout",
     "output_type": "stream",
     "text": [
      "Acc: 199/237\n",
      "OneposePlusPlus: 8\n"
     ]
    },
    {
     "name": "stderr",
     "output_type": "stream",
     "text": [
      "100%|██████████| 36/36 [00:54<00:00,  1.53s/it]\n",
      "100%|██████████| 74/74 [01:49<00:00,  1.48s/it]\n",
      "100%|██████████| 103/103 [02:29<00:00,  1.45s/it]\n",
      "100%|██████████| 100/100 [02:25<00:00,  1.45s/it]\n",
      "100%|██████████| 96/96 [02:17<00:00,  1.43s/it]\n",
      "100%|██████████| 112/112 [02:44<00:00,  1.47s/it]\n",
      "\u001b[32m2024-02-27 23:35:45.896\u001b[0m | \u001b[1mINFO    \u001b[0m | \u001b[36msrc.utils.metrics\u001b[0m:\u001b[36maggregate_metrics\u001b[0m:\u001b[36m192\u001b[0m - \u001b[1mAggregating metrics over 521 unique items...\u001b[0m\n",
      "\u001b[32m2024-02-27 23:35:45.900\u001b[0m | \u001b[1mINFO    \u001b[0m | \u001b[36m__main__\u001b[0m:\u001b[36m<module>\u001b[0m:\u001b[36m145\u001b[0m - \u001b[1m\n",
      "{'AP50': 0.6276391554702495,\n",
      " 'R:ACC15': 0.43378119001919385,\n",
      " 'R:ACC30': 0.7600767754318618,\n",
      " 'R:auc@15': 0.2555356706376643,\n",
      " 'R:auc@30': 0.43617697272029204,\n",
      " 'R:medianErr': 17.538295728436555,\n",
      " 't:ACC15': 0.2476007677543186,\n",
      " 't:ACC30': 0.3781190019193858,\n",
      " 't:auc@15': 0.13550330301753596,\n",
      " 't:auc@30': 0.22455932150194072,\n",
      " 't:medianErr': 50.596845040541155}\u001b[0m\n"
     ]
    },
    {
     "name": "stdout",
     "output_type": "stream",
     "text": [
      "Acc: 327/521\n"
     ]
    }
   ],
   "source": [
    "for label_idx, test_dict in enumerate(dir_list):\n",
    "    print(f\"OneposePlusPlus: {label_idx}\")\n",
    "    metrics = dict()\n",
    "    metrics.update({'R_errs':[], 't_errs':[], 'inliers':[], \"identifiers\":[]})\n",
    "    sample_data = dir_list[label_idx][\"0\"][0]\n",
    "    label = sample_data.split(\"/\")[0]\n",
    "    name = label.split(\"-\")[1]\n",
    "    dir_name = os.path.dirname(sample_data)\n",
    "    FULL_ROOT_DIR = os.path.join(ROOT_DIR, dir_name)\n",
    "    recall_image, all_image = 0, 0\n",
    "    for rotation_key, rotation_list in zip(test_dict.keys(), test_dict.values()):\n",
    "        for pair_idx, pair_name in enumerate(tqdm(rotation_list)):\n",
    "            all_image = all_image + 1\n",
    "            base_name = os.path.basename(pair_name)\n",
    "            idx0_name = base_name.split(\"-\")[0]\n",
    "            idx1_name = base_name.split(\"-\")[1]\n",
    "            image0_name = os.path.join(FULL_ROOT_DIR, idx0_name)\n",
    "\n",
    "            image1_name = os.path.join(FULL_ROOT_DIR.replace(\"color\", \"color\"), idx1_name)\n",
    "            intrinsic_path = image0_name.replace(\"color\", \"intrin_ba\").replace(\"png\", \"txt\")\n",
    "            K0 = np.loadtxt(intrinsic_path, delimiter=' ')\n",
    "            intrinsic_path = image1_name.replace(\"color\", \"intrin_ba\").replace(\"png\", \"txt\")\n",
    "            K1 = np.loadtxt(intrinsic_path, delimiter=' ')\n",
    "\n",
    "            image0 = cv2.imread(image0_name)\n",
    "            ref_torch_image = set_torch_image(image0, center_crop=True)\n",
    "            ref_fea = get_cls_token_torch(dinov2_model, ref_torch_image)\n",
    "            image1 = cv2.imread(image1_name)\n",
    "            image_h, image_w, _ = image1.shape\n",
    "            t1 = time.time()\n",
    "            masks = MASK_GEN.generate(image1)\n",
    "            t2 = time.time()\n",
    "            similarity_score, top_images = np.array([0, 0, 0], np.float32), [[], [], []]\n",
    "            t3 = time.time()\n",
    "            compact_percent = 0.3\n",
    "            for xxx, mask in enumerate(masks):\n",
    "                object_mask = np.expand_dims(mask[\"segmentation\"], -1)\n",
    "                x0, y0, w, h = mask[\"bbox\"]\n",
    "                x1, y1 = x0 + w, y0 + h\n",
    "                x0 -= int(w * compact_percent)\n",
    "                y0 -= int(h * compact_percent)\n",
    "                x1 += int(w * compact_percent)\n",
    "                y1 += int(h * compact_percent)\n",
    "                box = np.array([x0, y0, x1, y1])\n",
    "                resize_shape = np.array([y1 - y0, x1 - x0])\n",
    "                K_crop, K_crop_homo = get_K_crop_resize(box, K1, resize_shape)\n",
    "                image_crop, _ = get_image_crop_resize(image1, box, resize_shape)\n",
    "                # object_mask,_ = get_image_crop_resize(object_mask, box, resize_shape)\n",
    "                box_new = np.array([0, 0, x1 - x0, y1 - y0])\n",
    "                resize_shape = np.array([512, 512])\n",
    "                K_crop, K_crop_homo = get_K_crop_resize(box_new, K_crop, resize_shape)\n",
    "                image_crop, _ = get_image_crop_resize(image_crop, box_new, resize_shape)\n",
    "                crop_tensor = set_torch_image(image_crop, center_crop=True)\n",
    "                with torch.no_grad():\n",
    "                    fea = get_cls_token_torch(dinov2_model, crop_tensor)\n",
    "                score = F.cosine_similarity(ref_fea, fea, dim=1, eps=1e-8)\n",
    "                if (score.item() > similarity_score).any():\n",
    "                    mask[\"crop_image\"] = image_crop\n",
    "                    mask[\"K\"] = K_crop\n",
    "                    mask[\"bbox\"] = box\n",
    "                    min_idx = np.argmin(similarity_score)\n",
    "                    similarity_score[min_idx] = score.item()\n",
    "                    top_images[min_idx] = mask.copy()\n",
    "\n",
    "            img0 = cv2.cvtColor(image0, cv2.COLOR_BGR2GRAY)\n",
    "            img0 = torch.from_numpy(img0).float()[None] / 255.\n",
    "            img0 = img0.unsqueeze(0).cuda()\n",
    "\n",
    "            matching_score = [[0] for _ in range(len(top_images))]\n",
    "            for top_idx in range(len(top_images)):\n",
    "                if \"crop_image\" not in top_images[top_idx]:\n",
    "                    continue\n",
    "                img1 = cv2.cvtColor(top_images[top_idx][\"crop_image\"], cv2.COLOR_BGR2GRAY)\n",
    "                img1 = torch.from_numpy(img1).float()[None] / 255.\n",
    "                img1 = img1.unsqueeze(0).cuda()\n",
    "                batch = {'image0':img0, 'image1':img1}\n",
    "                with torch.no_grad():\n",
    "                    matcher(batch)\n",
    "                    mkpts0 = batch['mkpts0_f'].cpu().numpy()\n",
    "                    mkpts1 = batch['mkpts1_f'].cpu().numpy()\n",
    "                    confidences = batch[\"mconf\"].cpu().numpy()\n",
    "                conf_mask = np.where(confidences > 0.9)\n",
    "                matching_score[top_idx] = conf_mask[0].shape[0]\n",
    "                top_images[top_idx][\"mkpts0\"] = mkpts0\n",
    "                top_images[top_idx][\"mkpts1\"] = mkpts1\n",
    "                top_images[top_idx][\"mconf\"] = confidences\n",
    "            #---------------------------------------------------\n",
    "            # crop_image = cv2.resize(top_images[np.argmax(matching_score)][\"crop_image\"],(256,256))\n",
    "            # que_image = cv2.resize(image0,(256,256))\n",
    "            # image = np.hstack((que_image, crop_image))\n",
    "            # for top_idx in range(len(top_images)):\n",
    "            #     crop_image = top_images[top_idx][\"crop_image\"]\n",
    "            #     score = matching_score[top_idx]\n",
    "            #     crop_image = cv2.resize(crop_image,(256,256))\n",
    "            #     cv2.putText(crop_image,f'{score}',(100,100),cv2.FONT_HERSHEY_COMPLEX,1,(0,0,255),1)\n",
    "            #     image = np.hstack((image, crop_image))\n",
    "            # cv2.imwrite(f\"segment_anything/crop_images/{idx}.jpg\", image)\n",
    "            #---------------------------------------------------\n",
    "            t4 = time.time()\n",
    "            # print(f\"t4-t3: object detection:{1000*(t4-t3)} ms\")\n",
    "            pose0_name = image0_name.replace(\"color\", \"poses_ba\").replace(\"png\",\"txt\")\n",
    "            pose1_name = image1_name.replace(\"color\", \"poses_ba\").replace(\"png\",\"txt\")\n",
    "            pose0 = np.loadtxt(pose0_name)\n",
    "            pose1 = np.loadtxt(pose1_name)\n",
    "            # pose0 = np.vstack((pose0, np.array([[0,0,0,1]])))\n",
    "            # pose1 = np.vstack((pose1, np.array([[0,0,0,1]])))\n",
    "            relative_pose =  np.matmul(pose1, inv(pose0))\n",
    "            t = relative_pose[:3, -1].reshape(1, 3)\n",
    "            if \"crop_image\" not in top_images[top_idx]:\n",
    "                continue\n",
    "            max_match_idx = np.argmax(matching_score)\n",
    "            pre_bbox  = top_images[max_match_idx][\"bbox\"]\n",
    "            mkpts0 = top_images[max_match_idx][\"mkpts0\"]\n",
    "            mkpts1 = top_images[max_match_idx][\"mkpts1\"]\n",
    "            pre_K = top_images[max_match_idx][\"K\"]\n",
    "\n",
    "            _3d_bbox = np.loadtxt(f\"{os.path.join(ROOT_DIR, label)}/box3d_corners.txt\")\n",
    "            bbox_pts_3d, _ = project_points(_3d_bbox, pose1[:3, :4], K1)\n",
    "            bbox_pts_3d = bbox_pts_3d.astype(np.int32)\n",
    "            x0, y0, w, h = cv2.boundingRect(bbox_pts_3d)\n",
    "            x1, y1 = x0 + w, y0 + h\n",
    "            gt_bbox = np.array([x0, y0, x1, y1])\n",
    "            is_recalled = recall_object(pre_bbox , gt_bbox)\n",
    "            recall_image = recall_image + int(is_recalled > 0.5)\n",
    "            ret = estimate_pose(mkpts0, mkpts1, K0, pre_K, 0.5, 0.99)\n",
    "            if ret is  not None:\n",
    "                Rot, t, inliers = ret\n",
    "                t_err, R_err = relative_pose_error(relative_pose, Rot, t, ignore_gt_t_thr=0.0)\n",
    "                metrics['R_errs'].append(R_err)\n",
    "                metrics['t_errs'].append(t_err)\n",
    "            else:\n",
    "                metrics['R_errs'].append(90)\n",
    "                metrics['t_errs'].append(90)\n",
    "            metrics[\"identifiers\"].append(pair_name)\n",
    "\n",
    "\n",
    "    print(f\"Acc: {recall_image}/{all_image}\")\n",
    "    import pprint\n",
    "    from src.utils.metrics import (\n",
    "        aggregate_metrics\n",
    "    )\n",
    "    from loguru import logger\n",
    "    val_metrics_4tb = aggregate_metrics(metrics, 5e-4)\n",
    "    val_metrics_4tb[\"AP50\"] = recall_image/all_image\n",
    "    logger.info('\\n' + pprint.pformat(val_metrics_4tb))\n",
    "\n",
    "    res_table.append([f\"{name }\"] + list(val_metrics_4tb.values()))"
   ]
  },
  {
   "cell_type": "code",
   "execution_count": 5,
   "metadata": {},
   "outputs": [
    {
     "name": "stdout",
     "output_type": "stream",
     "text": [
      "╒══════════════╤════════════╤════════════╤═══════════╤═══════════╤═══════════════╤════════════╤════════════╤═══════════╤═══════════╤═══════════════╤══════════╕\n",
      "│ Category     │   R:auc@15 │   R:auc@30 │   R:ACC15 │   R:ACC30 │   R:medianErr │   t:auc@15 │   t:auc@30 │   t:ACC15 │   t:ACC30 │   t:medianErr │     AP50 │\n",
      "╞══════════════╪════════════╪════════════╪═══════════╪═══════════╪═══════════════╪════════════╪════════════╪═══════════╪═══════════╪═══════════════╪══════════╡\n",
      "│ toyrobot     │   0.61343  │   0.745499 │  0.8159   │  0.937238 │       3.3681  │   0.532829 │   0.675797 │  0.769874 │  0.861925 │       5.63405 │ 0.962343 │\n",
      "├──────────────┼────────────┼────────────┼───────────┼───────────┼───────────────┼────────────┼────────────┼───────────┼───────────┼───────────────┼──────────┤\n",
      "│ yellowduck   │   0.52681  │   0.708132 │  0.784127 │  0.952381 │       5.54982 │   0.430843 │   0.596699 │  0.679365 │  0.831746 │       8.02121 │ 0.984127 │\n",
      "├──────────────┼────────────┼────────────┼───────────┼───────────┼───────────────┼────────────┼────────────┼───────────┼───────────┼───────────────┼──────────┤\n",
      "│ sheep        │   0.544534 │   0.696997 │  0.781116 │  0.905579 │       4.911   │   0.3634   │   0.520354 │  0.575107 │  0.751073 │      10.8773  │ 0.356223 │\n",
      "├──────────────┼────────────┼────────────┼───────────┼───────────┼───────────────┼────────────┼────────────┼───────────┼───────────┼───────────────┼──────────┤\n",
      "│ fakebanana   │   0.505033 │   0.655856 │  0.71     │  0.876667 │       5.27071 │   0.324678 │   0.468342 │  0.533333 │  0.67     │      12.8706  │ 0.97     │\n",
      "├──────────────┼────────────┼────────────┼───────────┼───────────┼───────────────┼────────────┼────────────┼───────────┼───────────┼───────────────┼──────────┤\n",
      "│ teabox       │   0.663721 │   0.782909 │  0.865591 │  0.924731 │       3.1895  │   0.533417 │   0.671679 │  0.75     │  0.841398 │       4.88567 │ 0.975806 │\n",
      "├──────────────┼────────────┼────────────┼───────────┼───────────┼───────────────┼────────────┼────────────┼───────────┼───────────┼───────────────┼──────────┤\n",
      "│ orange       │   0.445875 │   0.630712 │  0.705882 │  0.905882 │       7.15042 │   0.341516 │   0.48979  │  0.567647 │  0.685294 │      10.5829  │ 0.982353 │\n",
      "├──────────────┼────────────┼────────────┼───────────┼───────────┼───────────────┼────────────┼────────────┼───────────┼───────────┼───────────────┼──────────┤\n",
      "│ greenteapot  │   0.62508  │   0.764863 │  0.85567  │  0.953608 │       3.58047 │   0.505005 │   0.652312 │  0.762887 │  0.819588 │       5.79668 │ 0.974227 │\n",
      "├──────────────┼────────────┼────────────┼───────────┼───────────┼───────────────┼────────────┼────────────┼───────────┼───────────┼───────────────┼──────────┤\n",
      "│ lecreusetcup │   0.471027 │   0.643967 │  0.691983 │  0.890295 │       7.10176 │   0.335533 │   0.495064 │  0.544304 │  0.725738 │      11.8924  │ 0.839662 │\n",
      "├──────────────┼────────────┼────────────┼───────────┼───────────┼───────────────┼────────────┼────────────┼───────────┼───────────┼───────────────┼──────────┤\n",
      "│ insta        │   0.255536 │   0.436177 │  0.433781 │  0.760077 │      17.5383  │   0.135503 │   0.224559 │  0.247601 │  0.378119 │      50.5968  │ 0.627639 │\n",
      "├──────────────┼────────────┼────────────┼───────────┼───────────┼───────────────┼────────────┼────────────┼───────────┼───────────┼───────────────┼──────────┤\n",
      "│ Avg          │   0.516783 │   0.673901 │  0.738228 │  0.900718 │       6.40668 │   0.389192 │   0.532733 │  0.603346 │  0.729431 │      13.462   │ 0.852487 │\n",
      "╘══════════════╧════════════╧════════════╧═══════════╧═══════════╧═══════════════╧════════════╧════════════╧═══════════╧═══════════╧═══════════════╧══════════╛\n"
     ]
    }
   ],
   "source": [
    "from tabulate import tabulate\n",
    "headers = [\"Category\"] + list(val_metrics_4tb.keys())\n",
    "all_data = np.array(res_table)[:, 1:].astype(np.float32)\n",
    "res_table.append([\"Avg\"] + all_data.mean(0).tolist())\n",
    "print(tabulate(res_table, headers=headers, tablefmt='fancy_grid'))"
   ]
  },
  {
   "cell_type": "code",
   "execution_count": null,
   "metadata": {},
   "outputs": [],
   "source": []
  }
 ],
 "metadata": {
  "kernelspec": {
   "display_name": "pope",
   "language": "python",
   "name": "python3"
  },
  "language_info": {
   "codemirror_mode": {
    "name": "ipython",
    "version": 3
   },
   "file_extension": ".py",
   "mimetype": "text/x-python",
   "name": "python",
   "nbconvert_exporter": "python",
   "pygments_lexer": "ipython3",
   "version": "3.9.18"
  }
 },
 "nbformat": 4,
 "nbformat_minor": 2
}
